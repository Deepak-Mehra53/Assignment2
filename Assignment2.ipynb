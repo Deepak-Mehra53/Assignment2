{
 "cells": [
  {
   "cell_type": "code",
   "execution_count": 4,
   "id": "4a6dec7b-7998-47b7-ac54-5e4c3baa2e19",
   "metadata": {},
   "outputs": [
    {
     "name": "stdout",
     "output_type": "stream",
     "text": [
      "PW Skills\n",
      "Hello, World!\n"
     ]
    }
   ],
   "source": [
    "# Q1. How do you comment code in Python? What are the different types of comments?\n",
    "\n",
    "#Ans:-  we are two way to comment in python by using two method :-\n",
    "#       1.for Single line comment we use (#).\n",
    "#       2.for Multiple line comment we use (''');\n",
    "\n",
    "       #Example:-\n",
    "    \n",
    "#print(\"Hello, World!\")\n",
    "print(\"PW Skills\")\n",
    "\n",
    "\"\"\"\n",
    "This is a comment\n",
    "written in\n",
    "more than just one line\n",
    "\"\"\"\n",
    "print(\"Hello, World!\")\n"
   ]
  },
  {
   "cell_type": "code",
   "execution_count": 13,
   "id": "212674f8-d8fd-42d5-9d13-017b9fb9c76f",
   "metadata": {},
   "outputs": [
    {
     "name": "stdout",
     "output_type": "stream",
     "text": [
      "69\n"
     ]
    }
   ],
   "source": [
    "#Q2. What are variables in Python? How do you declare and assign values to variables?\n",
    "#Ans:-  Variables are containers for storing data values. In python we no need to declare data type of variable.\n",
    "#      The assignment operator, denoted by the “=” symbol, is the operator that is used to assign values to variables in Python.  \n",
    "\n",
    "     # for example:\n",
    "a=34 \n",
    "b=35\n",
    "sum=a+b\n",
    "print(sum)"
   ]
  },
  {
   "cell_type": "code",
   "execution_count": 16,
   "id": "49f536c5-e3c5-452b-852d-854ae1862638",
   "metadata": {},
   "outputs": [
    {
     "name": "stdout",
     "output_type": "stream",
     "text": [
      "<class 'int'>\n",
      "<class 'float'>\n"
     ]
    }
   ],
   "source": [
    "'''Q3. How do you convert one data type to another in Python?\n",
    "Ans:-  we can convert one data type to another using type conversion function.\n",
    "\n",
    "for example:- '''\n",
    "\n",
    "a=34\n",
    "print(type(a))\n",
    "\n",
    "a=float()\n",
    "print(type(a))"
   ]
  },
  {
   "cell_type": "code",
   "execution_count": null,
   "id": "2cce1a96-a803-4048-9136-0ab2aa549d94",
   "metadata": {},
   "outputs": [],
   "source": [
    "'''Q4. How do you write and execute a Python script from the command line?\n",
    "Ans:-  We need to open a command line and type the word python followed by the path to our script file like this:- \n",
    "       python first_script.py Hello World! Then we hit the ENTER button from the keyboard, and that's it. '''"
   ]
  },
  {
   "cell_type": "code",
   "execution_count": 29,
   "id": "d1fa504e-97cf-4ec6-86e8-ce0d0703c63c",
   "metadata": {},
   "outputs": [
    {
     "name": "stdout",
     "output_type": "stream",
     "text": [
      "[2, 3]\n"
     ]
    }
   ],
   "source": [
    "'''Q5. Given a list my_list = [1, 2, 3, 4, 5], write the code to slice the list and obtain the sub-list [2, 3].\n",
    "Ans:-  '''\n",
    "\n",
    "my_list = [1,2,3,4,5]\n",
    "sub_list = my_list[1:3]\n",
    "print(sub_list)\n",
    "\n"
   ]
  },
  {
   "cell_type": "code",
   "execution_count": 21,
   "id": "552f832f-9a17-419a-96dd-a6e6514b0243",
   "metadata": {},
   "outputs": [
    {
     "name": "stdout",
     "output_type": "stream",
     "text": [
      "(3+4j)\n",
      "(1-2j)\n",
      "(4+2j)\n"
     ]
    }
   ],
   "source": [
    "'''Q6. What is a complex number in mathematics, and how is it represented in Python?\n",
    "Ans:-A complex number is a number that comprises both a real part and an imaginary part. \n",
    "     It is usually represented in the form a + bi, where a is the real part, \n",
    "     b is the imaginary part, and 'i' is the imaginary unit, defined as the square root of -1.\n",
    "     \n",
    "Represented in python:-'''\n",
    "\n",
    "# Creating complex numbers\n",
    "a = 3 + 4j\n",
    "b = 1 - 2j\n",
    "\n",
    "print(a)  \n",
    "print(b)  \n",
    "sum = a+b\n",
    "print(sum)\n",
    "\n",
    "    \n",
    "     "
   ]
  },
  {
   "cell_type": "code",
   "execution_count": 22,
   "id": "0ebf0d14-af17-4511-8b0e-575b3ffe4058",
   "metadata": {},
   "outputs": [
    {
     "name": "stdout",
     "output_type": "stream",
     "text": [
      "25\n"
     ]
    }
   ],
   "source": [
    "'''Q7. What is the correct way to declare a variable named age and assign the value 25 to it?\n",
    "Ans:'''\n",
    "\n",
    "age=25\n",
    "print(age)"
   ]
  },
  {
   "cell_type": "code",
   "execution_count": 23,
   "id": "96ca06be-c9cd-4c52-a760-06c6b3a20b42",
   "metadata": {},
   "outputs": [
    {
     "name": "stdout",
     "output_type": "stream",
     "text": [
      "<class 'float'>\n"
     ]
    }
   ],
   "source": [
    "'''Q8. Declare a variable named price and assign the value 9.99 to it. What data type does this variable\n",
    "belong to?\n",
    "Ans:'''\n",
    "\n",
    "price=9.99\n",
    "print(type(price)) #float"
   ]
  },
  {
   "cell_type": "code",
   "execution_count": 25,
   "id": "1baac30c-422d-419f-8c56-b0d4e2527272",
   "metadata": {},
   "outputs": [
    {
     "name": "stdout",
     "output_type": "stream",
     "text": [
      "Deepak Mehra\n"
     ]
    }
   ],
   "source": [
    "'''Q9. Create a variable named name and assign your full name to it as a string. How would you print the\n",
    "value of this variable? \n",
    "Ans:'''\n",
    "\n",
    "name=\"Deepak Mehra\"\n",
    "print(name) "
   ]
  },
  {
   "cell_type": "code",
   "execution_count": 27,
   "id": "166451fb-db50-41c1-8e8e-3542b811daa3",
   "metadata": {},
   "outputs": [
    {
     "name": "stdout",
     "output_type": "stream",
     "text": [
      "World\n"
     ]
    }
   ],
   "source": [
    "'''Q10. Given the string \"Hello, World!\", extract the substring \"World\".\n",
    "Ans: '''\n",
    "\n",
    "org_string=\"Hello, World!\"\n",
    "sub_string=org_string[7:12]\n",
    "print(sub_string)"
   ]
  },
  {
   "cell_type": "code",
   "execution_count": 30,
   "id": "0b7630b5-e2f2-4271-bdbf-8654f92e95da",
   "metadata": {},
   "outputs": [
    {
     "name": "stdout",
     "output_type": "stream",
     "text": [
      "<class 'bool'>\n"
     ]
    }
   ],
   "source": [
    "'''Q11. Create a variable named \"is_student\" and assign it a boolean value indicating whether you are\n",
    "currently a student or not.\n",
    "Ans:'''\n",
    "\n",
    "is_student=True\n",
    "print(type(is_student))"
   ]
  },
  {
   "cell_type": "code",
   "execution_count": null,
   "id": "b26845f3-f756-45e4-9b10-2c989dcb2513",
   "metadata": {},
   "outputs": [],
   "source": []
  }
 ],
 "metadata": {
  "kernelspec": {
   "display_name": "Python 3 (ipykernel)",
   "language": "python",
   "name": "python3"
  },
  "language_info": {
   "codemirror_mode": {
    "name": "ipython",
    "version": 3
   },
   "file_extension": ".py",
   "mimetype": "text/x-python",
   "name": "python",
   "nbconvert_exporter": "python",
   "pygments_lexer": "ipython3",
   "version": "3.10.8"
  }
 },
 "nbformat": 4,
 "nbformat_minor": 5
}
